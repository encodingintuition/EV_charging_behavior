{
 "cells": [
  {
   "cell_type": "markdown",
   "metadata": {},
   "source": [
    "# Charging Station Behavior - 01\n",
    "### ACN-Data Site: Caltech \n",
    "Dates: 1/01/2015 12:00 am - 1/01/2022  \n",
    "Link : https://ev.caltech.edu/dataset\n",
    "<hr>"
   ]
  },
  {
   "cell_type": "markdown",
   "metadata": {},
   "source": [
    "Actions:\n",
    "- review date-function\n",
    "- \n",
    "\n",
    "\n",
    "Questions:\n",
    "- what is the avg time to charge\n",
    "- what is the avg disconnect time\n",
    "- what is the adv time an individual leaves their car plugged in compared to the amount of time it takes to charge a vehicle\n",
    "\n",
    "- how else can i segment the population \n",
    "- is there a pattern between the space ID and the avg kMh charged ( could  a cluster map be used here )\n",
    "- how can i access the json nested in 'userinputs'\n",
    "\n",
    "\n",
    "- start to create a master list of most valuable variable"
   ]
  },
  {
   "cell_type": "markdown",
   "metadata": {},
   "source": [
    "<hr>"
   ]
  },
  {
   "cell_type": "code",
   "execution_count": 1,
   "metadata": {},
   "outputs": [],
   "source": [
    "# Imports\n",
    "\n",
    "import pandas as pd\n",
    "#\n",
    "from pandas.io.json import json_normalize\n",
    "import json\n",
    "#\n",
    "import matplotlib.pyplot as plt\n",
    "import matplotlib.dates as mdates\n",
    "from matplotlib.dates import DateFormatter\n",
    "\n",
    "import seaborn as sns\n",
    "import numpy as np\n",
    "\n",
    "# set figure size \n",
    "sns.set(rc={'figure.figsize':(21,9)})\n",
    "\n",
    "from dateutil import tz\n",
    "from datetime import datetime\n",
    "\n",
    "# nan\n",
    "import missingno as msno"
   ]
  },
  {
   "cell_type": "markdown",
   "metadata": {},
   "source": [
    "# Data Ingestion\n",
    "<hr>"
   ]
  },
  {
   "cell_type": "code",
   "execution_count": 2,
   "metadata": {},
   "outputs": [
    {
     "name": "stdout",
     "output_type": "stream",
     "text": [
      "../data/ev_charging_datasets/caltech-20150101_20220101.json\n"
     ]
    }
   ],
   "source": [
    "!ls ../data/ev_charging_datasets/caltech-20150101_20220101.json"
   ]
  },
  {
   "cell_type": "code",
   "execution_count": 3,
   "metadata": {},
   "outputs": [],
   "source": [
    "# open JSON file\n",
    "data = json.load(open('../data/ev_charging_datasets/caltech-20150101_20220101.json'))\n",
    "\n",
    "# Us only _items data\n",
    "df = json_normalize(data, '_items')"
   ]
  },
  {
   "cell_type": "code",
   "execution_count": 4,
   "metadata": {},
   "outputs": [
    {
     "data": {
      "text/plain": [
       "(31424, 13)"
      ]
     },
     "execution_count": 4,
     "metadata": {},
     "output_type": "execute_result"
    }
   ],
   "source": [
    "df.shape"
   ]
  },
  {
   "cell_type": "code",
   "execution_count": 5,
   "metadata": {},
   "outputs": [
    {
     "data": {
      "text/html": [
       "<div>\n",
       "<style scoped>\n",
       "    .dataframe tbody tr th:only-of-type {\n",
       "        vertical-align: middle;\n",
       "    }\n",
       "\n",
       "    .dataframe tbody tr th {\n",
       "        vertical-align: top;\n",
       "    }\n",
       "\n",
       "    .dataframe thead th {\n",
       "        text-align: right;\n",
       "    }\n",
       "</style>\n",
       "<table border=\"1\" class=\"dataframe\">\n",
       "  <thead>\n",
       "    <tr style=\"text-align: right;\">\n",
       "      <th></th>\n",
       "      <th>_id</th>\n",
       "      <th>clusterID</th>\n",
       "      <th>connectionTime</th>\n",
       "      <th>disconnectTime</th>\n",
       "      <th>doneChargingTime</th>\n",
       "      <th>kWhDelivered</th>\n",
       "      <th>sessionID</th>\n",
       "      <th>siteID</th>\n",
       "      <th>spaceID</th>\n",
       "      <th>stationID</th>\n",
       "      <th>timezone</th>\n",
       "      <th>userID</th>\n",
       "      <th>userInputs</th>\n",
       "    </tr>\n",
       "  </thead>\n",
       "  <tbody>\n",
       "    <tr>\n",
       "      <th>0</th>\n",
       "      <td>5bc90cb9f9af8b0d7fe77cd2</td>\n",
       "      <td>0039</td>\n",
       "      <td>Wed, 25 Apr 2018 11:08:04 GMT</td>\n",
       "      <td>Wed, 25 Apr 2018 13:20:10 GMT</td>\n",
       "      <td>Wed, 25 Apr 2018 13:21:10 GMT</td>\n",
       "      <td>7.932</td>\n",
       "      <td>2_39_78_362_2018-04-25 11:08:04.400812</td>\n",
       "      <td>0002</td>\n",
       "      <td>CA-496</td>\n",
       "      <td>2-39-78-362</td>\n",
       "      <td>America/Los_Angeles</td>\n",
       "      <td>None</td>\n",
       "      <td>None</td>\n",
       "    </tr>\n",
       "    <tr>\n",
       "      <th>1</th>\n",
       "      <td>5bc90cb9f9af8b0d7fe77cd3</td>\n",
       "      <td>0039</td>\n",
       "      <td>Wed, 25 Apr 2018 13:45:10 GMT</td>\n",
       "      <td>Thu, 26 Apr 2018 00:56:16 GMT</td>\n",
       "      <td>Wed, 25 Apr 2018 16:44:15 GMT</td>\n",
       "      <td>10.013</td>\n",
       "      <td>2_39_95_27_2018-04-25 13:45:09.617470</td>\n",
       "      <td>0002</td>\n",
       "      <td>CA-319</td>\n",
       "      <td>2-39-95-27</td>\n",
       "      <td>America/Los_Angeles</td>\n",
       "      <td>None</td>\n",
       "      <td>None</td>\n",
       "    </tr>\n",
       "    <tr>\n",
       "      <th>2</th>\n",
       "      <td>5bc90cb9f9af8b0d7fe77cd4</td>\n",
       "      <td>0039</td>\n",
       "      <td>Wed, 25 Apr 2018 13:45:50 GMT</td>\n",
       "      <td>Wed, 25 Apr 2018 23:04:45 GMT</td>\n",
       "      <td>Wed, 25 Apr 2018 14:51:44 GMT</td>\n",
       "      <td>5.257</td>\n",
       "      <td>2_39_79_380_2018-04-25 13:45:49.962001</td>\n",
       "      <td>0002</td>\n",
       "      <td>CA-489</td>\n",
       "      <td>2-39-79-380</td>\n",
       "      <td>America/Los_Angeles</td>\n",
       "      <td>None</td>\n",
       "      <td>None</td>\n",
       "    </tr>\n",
       "  </tbody>\n",
       "</table>\n",
       "</div>"
      ],
      "text/plain": [
       "                        _id clusterID                 connectionTime  \\\n",
       "0  5bc90cb9f9af8b0d7fe77cd2      0039  Wed, 25 Apr 2018 11:08:04 GMT   \n",
       "1  5bc90cb9f9af8b0d7fe77cd3      0039  Wed, 25 Apr 2018 13:45:10 GMT   \n",
       "2  5bc90cb9f9af8b0d7fe77cd4      0039  Wed, 25 Apr 2018 13:45:50 GMT   \n",
       "\n",
       "                  disconnectTime               doneChargingTime  kWhDelivered  \\\n",
       "0  Wed, 25 Apr 2018 13:20:10 GMT  Wed, 25 Apr 2018 13:21:10 GMT         7.932   \n",
       "1  Thu, 26 Apr 2018 00:56:16 GMT  Wed, 25 Apr 2018 16:44:15 GMT        10.013   \n",
       "2  Wed, 25 Apr 2018 23:04:45 GMT  Wed, 25 Apr 2018 14:51:44 GMT         5.257   \n",
       "\n",
       "                                sessionID siteID spaceID    stationID  \\\n",
       "0  2_39_78_362_2018-04-25 11:08:04.400812   0002  CA-496  2-39-78-362   \n",
       "1   2_39_95_27_2018-04-25 13:45:09.617470   0002  CA-319   2-39-95-27   \n",
       "2  2_39_79_380_2018-04-25 13:45:49.962001   0002  CA-489  2-39-79-380   \n",
       "\n",
       "              timezone userID userInputs  \n",
       "0  America/Los_Angeles   None       None  \n",
       "1  America/Los_Angeles   None       None  \n",
       "2  America/Los_Angeles   None       None  "
      ]
     },
     "execution_count": 5,
     "metadata": {},
     "output_type": "execute_result"
    }
   ],
   "source": [
    "df.head(3)"
   ]
  },
  {
   "cell_type": "code",
   "execution_count": 6,
   "metadata": {},
   "outputs": [
    {
     "data": {
      "text/html": [
       "<div>\n",
       "<style scoped>\n",
       "    .dataframe tbody tr th:only-of-type {\n",
       "        vertical-align: middle;\n",
       "    }\n",
       "\n",
       "    .dataframe tbody tr th {\n",
       "        vertical-align: top;\n",
       "    }\n",
       "\n",
       "    .dataframe thead th {\n",
       "        text-align: right;\n",
       "    }\n",
       "</style>\n",
       "<table border=\"1\" class=\"dataframe\">\n",
       "  <thead>\n",
       "    <tr style=\"text-align: right;\">\n",
       "      <th></th>\n",
       "      <th>_id</th>\n",
       "      <th>clusterID</th>\n",
       "      <th>connectionTime</th>\n",
       "      <th>disconnectTime</th>\n",
       "      <th>doneChargingTime</th>\n",
       "      <th>kWhDelivered</th>\n",
       "      <th>sessionID</th>\n",
       "      <th>siteID</th>\n",
       "      <th>spaceID</th>\n",
       "      <th>stationID</th>\n",
       "      <th>timezone</th>\n",
       "      <th>userID</th>\n",
       "      <th>userInputs</th>\n",
       "    </tr>\n",
       "  </thead>\n",
       "  <tbody>\n",
       "    <tr>\n",
       "      <th>31421</th>\n",
       "      <td>61550519f9af8b76960e169c</td>\n",
       "      <td>0039</td>\n",
       "      <td>Mon, 13 Sep 2021 22:33:07 GMT</td>\n",
       "      <td>Mon, 13 Sep 2021 23:06:55 GMT</td>\n",
       "      <td>None</td>\n",
       "      <td>17.720</td>\n",
       "      <td>2_39_81_4550_2021-09-13 22:33:04.543952</td>\n",
       "      <td>0002</td>\n",
       "      <td>11900388</td>\n",
       "      <td>2-39-81-4550</td>\n",
       "      <td>America/Los_Angeles</td>\n",
       "      <td>000003905</td>\n",
       "      <td>[{'WhPerMile': 300, 'kWhRequested': 30.0, 'mil...</td>\n",
       "    </tr>\n",
       "    <tr>\n",
       "      <th>31422</th>\n",
       "      <td>61550519f9af8b76960e169d</td>\n",
       "      <td>0039</td>\n",
       "      <td>Mon, 13 Sep 2021 23:11:12 GMT</td>\n",
       "      <td>Tue, 14 Sep 2021 01:43:11 GMT</td>\n",
       "      <td>Tue, 14 Sep 2021 00:13:35 GMT</td>\n",
       "      <td>2.018</td>\n",
       "      <td>2_39_91_437_2021-09-13 23:10:59.528292</td>\n",
       "      <td>0002</td>\n",
       "      <td>CA-317</td>\n",
       "      <td>2-39-91-437</td>\n",
       "      <td>America/Los_Angeles</td>\n",
       "      <td>000001082</td>\n",
       "      <td>[{'WhPerMile': 290, 'kWhRequested': 5.8, 'mile...</td>\n",
       "    </tr>\n",
       "    <tr>\n",
       "      <th>31423</th>\n",
       "      <td>61550519f9af8b76960e169e</td>\n",
       "      <td>0039</td>\n",
       "      <td>Tue, 14 Sep 2021 01:52:37 GMT</td>\n",
       "      <td>Tue, 14 Sep 2021 03:05:10 GMT</td>\n",
       "      <td>None</td>\n",
       "      <td>45.064</td>\n",
       "      <td>2_39_81_4550_2021-09-14 01:52:31.129163</td>\n",
       "      <td>0002</td>\n",
       "      <td>11900388</td>\n",
       "      <td>2-39-81-4550</td>\n",
       "      <td>America/Los_Angeles</td>\n",
       "      <td>000019055</td>\n",
       "      <td>[{'WhPerMile': 286, 'kWhRequested': 28.6, 'mil...</td>\n",
       "    </tr>\n",
       "  </tbody>\n",
       "</table>\n",
       "</div>"
      ],
      "text/plain": [
       "                            _id clusterID                 connectionTime  \\\n",
       "31421  61550519f9af8b76960e169c      0039  Mon, 13 Sep 2021 22:33:07 GMT   \n",
       "31422  61550519f9af8b76960e169d      0039  Mon, 13 Sep 2021 23:11:12 GMT   \n",
       "31423  61550519f9af8b76960e169e      0039  Tue, 14 Sep 2021 01:52:37 GMT   \n",
       "\n",
       "                      disconnectTime               doneChargingTime  \\\n",
       "31421  Mon, 13 Sep 2021 23:06:55 GMT                           None   \n",
       "31422  Tue, 14 Sep 2021 01:43:11 GMT  Tue, 14 Sep 2021 00:13:35 GMT   \n",
       "31423  Tue, 14 Sep 2021 03:05:10 GMT                           None   \n",
       "\n",
       "       kWhDelivered                                sessionID siteID   spaceID  \\\n",
       "31421        17.720  2_39_81_4550_2021-09-13 22:33:04.543952   0002  11900388   \n",
       "31422         2.018   2_39_91_437_2021-09-13 23:10:59.528292   0002    CA-317   \n",
       "31423        45.064  2_39_81_4550_2021-09-14 01:52:31.129163   0002  11900388   \n",
       "\n",
       "          stationID             timezone     userID  \\\n",
       "31421  2-39-81-4550  America/Los_Angeles  000003905   \n",
       "31422   2-39-91-437  America/Los_Angeles  000001082   \n",
       "31423  2-39-81-4550  America/Los_Angeles  000019055   \n",
       "\n",
       "                                              userInputs  \n",
       "31421  [{'WhPerMile': 300, 'kWhRequested': 30.0, 'mil...  \n",
       "31422  [{'WhPerMile': 290, 'kWhRequested': 5.8, 'mile...  \n",
       "31423  [{'WhPerMile': 286, 'kWhRequested': 28.6, 'mil...  "
      ]
     },
     "execution_count": 6,
     "metadata": {},
     "output_type": "execute_result"
    }
   ],
   "source": [
    "df.tail(3)"
   ]
  },
  {
   "cell_type": "code",
   "execution_count": 7,
   "metadata": {},
   "outputs": [
    {
     "name": "stdout",
     "output_type": "stream",
     "text": [
      "<class 'pandas.core.frame.DataFrame'>\n",
      "RangeIndex: 31424 entries, 0 to 31423\n",
      "Data columns (total 13 columns):\n",
      "_id                 31424 non-null object\n",
      "clusterID           31424 non-null object\n",
      "connectionTime      31424 non-null object\n",
      "disconnectTime      31424 non-null object\n",
      "doneChargingTime    29369 non-null object\n",
      "kWhDelivered        31424 non-null float64\n",
      "sessionID           31424 non-null object\n",
      "siteID              31424 non-null object\n",
      "spaceID             31424 non-null object\n",
      "stationID           31424 non-null object\n",
      "timezone            31424 non-null object\n",
      "userID              16388 non-null object\n",
      "userInputs          16388 non-null object\n",
      "dtypes: float64(1), object(12)\n",
      "memory usage: 3.1+ MB\n"
     ]
    }
   ],
   "source": [
    "df.info()"
   ]
  },
  {
   "cell_type": "code",
   "execution_count": 1,
   "metadata": {},
   "outputs": [
    {
     "ename": "NameError",
     "evalue": "name 'df' is not defined",
     "output_type": "error",
     "traceback": [
      "\u001b[0;31m---------------------------------------------------------------------------\u001b[0m",
      "\u001b[0;31mNameError\u001b[0m                                 Traceback (most recent call last)",
      "\u001b[0;32m<ipython-input-1-b666bf274d0a>\u001b[0m in \u001b[0;36m<module>\u001b[0;34m\u001b[0m\n\u001b[0;32m----> 1\u001b[0;31m \u001b[0mdf\u001b[0m\u001b[0;34m.\u001b[0m\u001b[0mcolumns\u001b[0m\u001b[0;34m\u001b[0m\u001b[0;34m\u001b[0m\u001b[0m\n\u001b[0m",
      "\u001b[0;31mNameError\u001b[0m: name 'df' is not defined"
     ]
    }
   ],
   "source": [
    "df.columns"
   ]
  },
  {
   "cell_type": "markdown",
   "metadata": {},
   "source": [
    "<hr>"
   ]
  },
  {
   "cell_type": "markdown",
   "metadata": {},
   "source": [
    "#### Unique Values per Feature"
   ]
  },
  {
   "cell_type": "code",
   "execution_count": null,
   "metadata": {},
   "outputs": [],
   "source": [
    "# See how many unique entries is in each numerical feature \n",
    "unique_values = df.select_dtypes(include= 'number').nunique().sort_values()\n",
    "\n",
    "# Plot unique values with a y-axis in log-scale\n",
    "unique_values.plot.bar(logy=True, figsize = (15,4), title='Unique values per Feature');\n"
   ]
  },
  {
   "cell_type": "markdown",
   "metadata": {},
   "source": [
    "<br>"
   ]
  },
  {
   "cell_type": "markdown",
   "metadata": {},
   "source": [
    "#### Check for Duplicates"
   ]
  },
  {
   "cell_type": "code",
   "execution_count": null,
   "metadata": {},
   "outputs": [],
   "source": [
    "# Check number of duplicates\n",
    "n_duplicates = df.duplicated().sum()\n",
    "print(f\"You seem to have {n_duplicates} duplicates in your database.\")\n",
    "\n",
    "#  Extract column names of all features\n",
    "columns_to_consider = df.columns\n",
    "\n",
    "# Drop duplicates based on 'columns_to_consider'\n",
    "df_X = df.drop_duplicates(subset=columns_to_consider)\n",
    "df_X.shape\n"
   ]
  },
  {
   "cell_type": "code",
   "execution_count": null,
   "metadata": {},
   "outputs": [],
   "source": [
    "# check duplicates\n",
    "dif = set(df.index) - set(df_X.index) \n",
    "dif"
   ]
  },
  {
   "cell_type": "markdown",
   "metadata": {},
   "source": [
    "<br>"
   ]
  },
  {
   "cell_type": "markdown",
   "metadata": {},
   "source": [
    "#### Nan"
   ]
  },
  {
   "cell_type": "code",
   "execution_count": null,
   "metadata": {},
   "outputs": [],
   "source": [
    "msno.matrix(df);"
   ]
  },
  {
   "cell_type": "code",
   "execution_count": null,
   "metadata": {},
   "outputs": [],
   "source": [
    "msno.bar(df);"
   ]
  },
  {
   "cell_type": "markdown",
   "metadata": {},
   "source": [
    "<br>"
   ]
  },
  {
   "cell_type": "markdown",
   "metadata": {},
   "source": [
    "#### Numerical Features"
   ]
  },
  {
   "cell_type": "code",
   "execution_count": null,
   "metadata": {},
   "outputs": [],
   "source": [
    "# \n",
    "\n",
    "df.plot(lw=0,\n",
    "    marker='.',\n",
    "    subplots=True,\n",
    "    layout=(-1,4),\n",
    "    figsize=(15,15),\n",
    "    markersize=1);"
   ]
  },
  {
   "cell_type": "markdown",
   "metadata": {},
   "source": [
    "<br>"
   ]
  },
  {
   "cell_type": "markdown",
   "metadata": {},
   "source": [
    "#### Non-Numerical Features"
   ]
  },
  {
   "cell_type": "code",
   "execution_count": null,
   "metadata": {},
   "outputs": [],
   "source": [
    "# number of non-numerical features\n",
    "df.select_dtypes(exclude=[\"number\", \"datetime\"]).shape"
   ]
  },
  {
   "cell_type": "code",
   "execution_count": null,
   "metadata": {},
   "outputs": [],
   "source": [
    "# Create figure object with 3 subplots\n",
    "fig, axes = plt.subplots(ncols=1, nrows=22, figsize=(12, 45))\n",
    "\n",
    "# Identify non-numerical features\n",
    "df_non_numerical = df.select_dtypes(exclude=[\"number\", \"datetime\"])\n",
    "\n",
    "# Loop through features and put each subplot on a matplotlib axis object\n",
    "for col, ax in zip(df_non_numerical.columns, axes.ravel()):\n",
    "\n",
    "    # Selects one single feature and counts number of unique value\n",
    "    df_non_numerical[col].value_counts().plot(\n",
    "\n",
    "        # Plots this information in a figure with log-scaled y-axis\n",
    "        logy=True, title=col, lw=0, marker=\".\", ax=ax)\n",
    "    \n",
    "plt.tight_layout();"
   ]
  },
  {
   "cell_type": "markdown",
   "metadata": {},
   "source": [
    "<br>"
   ]
  },
  {
   "cell_type": "markdown",
   "metadata": {},
   "source": [
    "#### Feature Distrobution"
   ]
  },
  {
   "cell_type": "code",
   "execution_count": null,
   "metadata": {},
   "outputs": [],
   "source": [
    "# Plots the histogram for each numerical feature in a separate subplot\n",
    "df.hist(bins=25, figsize=(15, 5), layout=(-1, 5), edgecolor=\"black\")\n",
    "plt.tight_layout();"
   ]
  },
  {
   "cell_type": "markdown",
   "metadata": {},
   "source": [
    "<br>"
   ]
  },
  {
   "cell_type": "markdown",
   "metadata": {},
   "source": [
    "#### Continous Features"
   ]
  },
  {
   "cell_type": "code",
   "execution_count": null,
   "metadata": {},
   "outputs": [],
   "source": [
    "# continouous colums seen in 'Unique values per Feature graph'\n",
    "cols_continuous = ['Fee','Plug In Event Id','Gasoline Savings (gallons)','GHG Savings (kg)', 'Energy (kWh)', 'User ID']\n",
    "\n",
    "# Create a new dataframe which only contains the continuous features\n",
    "df_continuous = df[cols_continuous]\n",
    "df_continuous.shape"
   ]
  },
  {
   "cell_type": "code",
   "execution_count": 9,
   "metadata": {},
   "outputs": [
    {
     "data": {
      "text/html": [
       "<div>\n",
       "<style scoped>\n",
       "    .dataframe tbody tr th:only-of-type {\n",
       "        vertical-align: middle;\n",
       "    }\n",
       "\n",
       "    .dataframe tbody tr th {\n",
       "        vertical-align: top;\n",
       "    }\n",
       "\n",
       "    .dataframe thead th {\n",
       "        text-align: right;\n",
       "    }\n",
       "</style>\n",
       "<table border=\"1\" class=\"dataframe\">\n",
       "  <thead>\n",
       "    <tr style=\"text-align: right;\">\n",
       "      <th></th>\n",
       "      <th>0</th>\n",
       "    </tr>\n",
       "  </thead>\n",
       "  <tbody>\n",
       "    <tr>\n",
       "      <th>_id</th>\n",
       "      <td>5bc90cb9f9af8b0d7fe77cd2</td>\n",
       "    </tr>\n",
       "    <tr>\n",
       "      <th>clusterID</th>\n",
       "      <td>0039</td>\n",
       "    </tr>\n",
       "    <tr>\n",
       "      <th>connectionTime</th>\n",
       "      <td>Wed, 25 Apr 2018 11:08:04 GMT</td>\n",
       "    </tr>\n",
       "    <tr>\n",
       "      <th>disconnectTime</th>\n",
       "      <td>Wed, 25 Apr 2018 13:20:10 GMT</td>\n",
       "    </tr>\n",
       "    <tr>\n",
       "      <th>doneChargingTime</th>\n",
       "      <td>Wed, 25 Apr 2018 13:21:10 GMT</td>\n",
       "    </tr>\n",
       "    <tr>\n",
       "      <th>kWhDelivered</th>\n",
       "      <td>7.932</td>\n",
       "    </tr>\n",
       "    <tr>\n",
       "      <th>sessionID</th>\n",
       "      <td>2_39_78_362_2018-04-25 11:08:04.400812</td>\n",
       "    </tr>\n",
       "    <tr>\n",
       "      <th>siteID</th>\n",
       "      <td>0002</td>\n",
       "    </tr>\n",
       "    <tr>\n",
       "      <th>spaceID</th>\n",
       "      <td>CA-496</td>\n",
       "    </tr>\n",
       "    <tr>\n",
       "      <th>stationID</th>\n",
       "      <td>2-39-78-362</td>\n",
       "    </tr>\n",
       "    <tr>\n",
       "      <th>timezone</th>\n",
       "      <td>America/Los_Angeles</td>\n",
       "    </tr>\n",
       "    <tr>\n",
       "      <th>userID</th>\n",
       "      <td>None</td>\n",
       "    </tr>\n",
       "    <tr>\n",
       "      <th>userInputs</th>\n",
       "      <td>None</td>\n",
       "    </tr>\n",
       "  </tbody>\n",
       "</table>\n",
       "</div>"
      ],
      "text/plain": [
       "                                                       0\n",
       "_id                             5bc90cb9f9af8b0d7fe77cd2\n",
       "clusterID                                           0039\n",
       "connectionTime             Wed, 25 Apr 2018 11:08:04 GMT\n",
       "disconnectTime             Wed, 25 Apr 2018 13:20:10 GMT\n",
       "doneChargingTime           Wed, 25 Apr 2018 13:21:10 GMT\n",
       "kWhDelivered                                       7.932\n",
       "sessionID         2_39_78_362_2018-04-25 11:08:04.400812\n",
       "siteID                                              0002\n",
       "spaceID                                           CA-496\n",
       "stationID                                    2-39-78-362\n",
       "timezone                             America/Los_Angeles\n",
       "userID                                              None\n",
       "userInputs                                          None"
      ]
     },
     "execution_count": 9,
     "metadata": {},
     "output_type": "execute_result"
    }
   ],
   "source": [
    "df.head(1).T"
   ]
  },
  {
   "cell_type": "markdown",
   "metadata": {},
   "source": [
    "# Feature Creation\n",
    "<hr>"
   ]
  },
  {
   "cell_type": "code",
   "execution_count": 10,
   "metadata": {},
   "outputs": [
    {
     "ename": "SyntaxError",
     "evalue": "invalid syntax (<ipython-input-10-29fe6f5ecbd3>, line 2)",
     "output_type": "error",
     "traceback": [
      "\u001b[0;36m  File \u001b[0;32m\"<ipython-input-10-29fe6f5ecbd3>\"\u001b[0;36m, line \u001b[0;32m2\u001b[0m\n\u001b[0;31m    quote date function from site\u001b[0m\n\u001b[0m             ^\u001b[0m\n\u001b[0;31mSyntaxError\u001b[0m\u001b[0;31m:\u001b[0m invalid syntax\n"
     ]
    }
   ],
   "source": [
    "# review date function \n",
    "quote date function from site"
   ]
  },
  {
   "cell_type": "code",
   "execution_count": null,
   "metadata": {},
   "outputs": [
    {
     "data": {
      "text/plain": [
       "''"
      ]
     },
     "execution_count": 156,
     "metadata": {},
     "output_type": "execute_result"
    }
   ],
   "source": [
    "\"\"\"\n",
    "   fuction from P.py on stackoverflow\n",
    "   https://stackoverflow.com/questions/54562555/python-code-to-convert-wed-06-feb-2019-204746-gmt-to-2019-02-06-154746-est\n",
    "\n",
    "\n",
    "\"\"\"\n",
    "\n",
    "def date_convert(gmt_date):\n",
    "\n",
    "    \n",
    "    print(\"Date in GMT: {0}\".format(gmt_date))\n",
    "    # Hardcode from and to time zones\n",
    "    from_zone = tz.gettz('GMT')\n",
    "    to_zone = tz.gettz('US/Eastern')\n",
    "    # gmt = datetime.gmtnow()\n",
    "    gmt = datetime.strptime(gmt_date, '%a, %d %b %Y %H:%M:%S GMT')\n",
    "    # Tell the datetime object that it's in GMT time zone\n",
    "    gmt = gmt.replace(tzinfo=from_zone)\n",
    "    # Convert time zone\n",
    "    eastern_time = str(gmt.astimezone(to_zone))\n",
    "    # Check if its EST or EDT        \n",
    "    \n",
    "    print(eastern_time)\n",
    "    \n",
    "    if eastern_time[-6:] == \"-05:00\":\n",
    "        print (\"Date in US/Eastern: \" +eastern_time.replace(\"-05:00\",\" EST\"))\n",
    "    elif eastern_time[-6:] == \"-04:00\":\n",
    "        print (\"Date in US/Eastern: \" +eastern_time.replace(\"-04:00\",\" EDT\"))\n",
    "        \n",
    "return eastern_time"
   ]
  },
  {
   "cell_type": "code",
   "execution_count": null,
   "metadata": {},
   "outputs": [
    {
     "name": "stdout",
     "output_type": "stream",
     "text": [
      "Date in GMT: Wed, 25 Apr 2018 13:45:10 GMT\n",
      "2018-04-25 09:45:10-04:00\n",
      "Date in US/Eastern: 2018-04-25 09:45:10 EDT\n"
     ]
    }
   ],
   "source": [
    " x = date_convert('Wed, 25 Apr 2018 13:45:10 GMT')"
   ]
  },
  {
   "cell_type": "code",
   "execution_count": null,
   "metadata": {},
   "outputs": [
    {
     "ename": "TypeError",
     "evalue": "cannot convert the series to <class 'int'>",
     "output_type": "error",
     "traceback": [
      "\u001b[0;31m---------------------------------------------------------------------------\u001b[0m",
      "\u001b[0;31mTypeError\u001b[0m                                 Traceback (most recent call last)",
      "\u001b[0;32m<ipython-input-114-6e957672f6a3>\u001b[0m in \u001b[0;36m<module>\u001b[0;34m\u001b[0m\n\u001b[0;32m----> 1\u001b[0;31m \u001b[0mdf\u001b[0m\u001b[0;34m[\u001b[0m\u001b[0;34m'connectionTime'\u001b[0m\u001b[0;34m]\u001b[0m \u001b[0;34m=\u001b[0m \u001b[0mpd\u001b[0m\u001b[0;34m.\u001b[0m\u001b[0mdatetime\u001b[0m\u001b[0;34m(\u001b[0m\u001b[0mdf\u001b[0m\u001b[0;34m[\u001b[0m\u001b[0;34m'connectionTime'\u001b[0m\u001b[0;34m]\u001b[0m\u001b[0;34m)\u001b[0m\u001b[0;34m\u001b[0m\u001b[0;34m\u001b[0m\u001b[0m\n\u001b[0m\u001b[1;32m      2\u001b[0m \u001b[0mdf\u001b[0m\u001b[0;34m[\u001b[0m\u001b[0;34m'disconnectTime'\u001b[0m\u001b[0;34m]\u001b[0m \u001b[0;34m=\u001b[0m \u001b[0mpd\u001b[0m\u001b[0;34m.\u001b[0m\u001b[0mdatetime\u001b[0m\u001b[0;34m(\u001b[0m\u001b[0mdf\u001b[0m\u001b[0;34m[\u001b[0m\u001b[0;34m'disconnectTime'\u001b[0m\u001b[0;34m]\u001b[0m\u001b[0;34m)\u001b[0m\u001b[0;34m\u001b[0m\u001b[0;34m\u001b[0m\u001b[0m\n\u001b[1;32m      3\u001b[0m \u001b[0mdf\u001b[0m\u001b[0;34m[\u001b[0m\u001b[0;34m'donechargingTime'\u001b[0m\u001b[0;34m]\u001b[0m  \u001b[0;34m=\u001b[0m \u001b[0mpd\u001b[0m\u001b[0;34m.\u001b[0m\u001b[0mdatetime\u001b[0m\u001b[0;34m(\u001b[0m\u001b[0mdf\u001b[0m\u001b[0;34m[\u001b[0m\u001b[0;34m'donechargingTime'\u001b[0m\u001b[0;34m]\u001b[0m\u001b[0;34m)\u001b[0m\u001b[0;34m\u001b[0m\u001b[0;34m\u001b[0m\u001b[0m\n",
      "\u001b[0;32m~/miniconda3/lib/python3.7/site-packages/pandas/core/series.py\u001b[0m in \u001b[0;36mwrapper\u001b[0;34m(self)\u001b[0m\n\u001b[1;32m     91\u001b[0m             \u001b[0;32mreturn\u001b[0m \u001b[0mconverter\u001b[0m\u001b[0;34m(\u001b[0m\u001b[0mself\u001b[0m\u001b[0;34m.\u001b[0m\u001b[0miloc\u001b[0m\u001b[0;34m[\u001b[0m\u001b[0;36m0\u001b[0m\u001b[0;34m]\u001b[0m\u001b[0;34m)\u001b[0m\u001b[0;34m\u001b[0m\u001b[0;34m\u001b[0m\u001b[0m\n\u001b[1;32m     92\u001b[0m         raise TypeError(\"cannot convert the series to \"\n\u001b[0;32m---> 93\u001b[0;31m                         \"{0}\".format(str(converter)))\n\u001b[0m\u001b[1;32m     94\u001b[0m \u001b[0;34m\u001b[0m\u001b[0m\n\u001b[1;32m     95\u001b[0m     \u001b[0mwrapper\u001b[0m\u001b[0;34m.\u001b[0m\u001b[0m__name__\u001b[0m \u001b[0;34m=\u001b[0m \u001b[0;34m\"__{name}__\"\u001b[0m\u001b[0;34m.\u001b[0m\u001b[0mformat\u001b[0m\u001b[0;34m(\u001b[0m\u001b[0mname\u001b[0m\u001b[0;34m=\u001b[0m\u001b[0mconverter\u001b[0m\u001b[0;34m.\u001b[0m\u001b[0m__name__\u001b[0m\u001b[0;34m)\u001b[0m\u001b[0;34m\u001b[0m\u001b[0;34m\u001b[0m\u001b[0m\n",
      "\u001b[0;31mTypeError\u001b[0m: cannot convert the series to <class 'int'>"
     ]
    }
   ],
   "source": [
    "df['connectionTime'] = pd.datetime(df['connectionTime'])   \n",
    "df['disconnectTime'] = pd.datetime(df['disconnectTime'])\n",
    "df['donechargingTime']  = pd.datetime(df['donechargingTime']) "
   ]
  },
  {
   "cell_type": "code",
   "execution_count": null,
   "metadata": {},
   "outputs": [],
   "source": []
  },
  {
   "cell_type": "markdown",
   "metadata": {},
   "source": [
    "# Exploration\n",
    "<hr>"
   ]
  },
  {
   "cell_type": "markdown",
   "metadata": {},
   "source": [
    "#### _id"
   ]
  },
  {
   "cell_type": "code",
   "execution_count": null,
   "metadata": {},
   "outputs": [
    {
     "data": {
      "text/plain": [
       "False    31424\n",
       "Name: _id, dtype: int64"
      ]
     },
     "execution_count": 106,
     "metadata": {},
     "output_type": "execute_result"
    }
   ],
   "source": [
    "df['_id'].isna().value_counts()"
   ]
  },
  {
   "cell_type": "code",
   "execution_count": null,
   "metadata": {},
   "outputs": [
    {
     "data": {
      "text/plain": [
       "31424"
      ]
     },
     "execution_count": 104,
     "metadata": {},
     "output_type": "execute_result"
    }
   ],
   "source": [
    "len(df['_id'].unique())"
   ]
  },
  {
   "cell_type": "markdown",
   "metadata": {},
   "source": [
    "#### clusterID"
   ]
  },
  {
   "cell_type": "code",
   "execution_count": null,
   "metadata": {},
   "outputs": [
    {
     "data": {
      "text/plain": [
       "False    31424\n",
       "Name: clusterID, dtype: int64"
      ]
     },
     "execution_count": 96,
     "metadata": {},
     "output_type": "execute_result"
    }
   ],
   "source": [
    "df['clusterID'].isna().value_counts()"
   ]
  },
  {
   "cell_type": "code",
   "execution_count": null,
   "metadata": {},
   "outputs": [
    {
     "data": {
      "text/plain": [
       "array(['0039', 39], dtype=object)"
      ]
     },
     "execution_count": 97,
     "metadata": {},
     "output_type": "execute_result"
    }
   ],
   "source": [
    "df['clusterID'].unique()"
   ]
  },
  {
   "cell_type": "markdown",
   "metadata": {},
   "source": [
    "#### connectionTime"
   ]
  },
  {
   "cell_type": "code",
   "execution_count": null,
   "metadata": {},
   "outputs": [
    {
     "data": {
      "text/plain": [
       "False    31424\n",
       "Name: connectionTime, dtype: int64"
      ]
     },
     "execution_count": 98,
     "metadata": {},
     "output_type": "execute_result"
    }
   ],
   "source": [
    "df['connectionTime'].isna().value_counts()"
   ]
  },
  {
   "cell_type": "markdown",
   "metadata": {},
   "source": [
    "#### disconnectTime\t"
   ]
  },
  {
   "cell_type": "code",
   "execution_count": null,
   "metadata": {},
   "outputs": [
    {
     "data": {
      "text/plain": [
       "False    31424\n",
       "Name: disconnectTime, dtype: int64"
      ]
     },
     "execution_count": 99,
     "metadata": {},
     "output_type": "execute_result"
    }
   ],
   "source": [
    "df['disconnectTime'].isna().value_counts()"
   ]
  },
  {
   "cell_type": "markdown",
   "metadata": {},
   "source": [
    "#### doneChargingTime"
   ]
  },
  {
   "cell_type": "code",
   "execution_count": null,
   "metadata": {},
   "outputs": [
    {
     "data": {
      "text/plain": [
       "False    29369\n",
       "True      2055\n",
       "Name: doneChargingTime, dtype: int64"
      ]
     },
     "execution_count": 100,
     "metadata": {},
     "output_type": "execute_result"
    }
   ],
   "source": [
    "df['doneChargingTime'].isna().value_counts()"
   ]
  },
  {
   "cell_type": "markdown",
   "metadata": {},
   "source": [
    "#### Time "
   ]
  },
  {
   "cell_type": "code",
   "execution_count": null,
   "metadata": {},
   "outputs": [
    {
     "data": {
      "text/html": [
       "<div>\n",
       "<style scoped>\n",
       "    .dataframe tbody tr th:only-of-type {\n",
       "        vertical-align: middle;\n",
       "    }\n",
       "\n",
       "    .dataframe tbody tr th {\n",
       "        vertical-align: top;\n",
       "    }\n",
       "\n",
       "    .dataframe thead th {\n",
       "        text-align: right;\n",
       "    }\n",
       "</style>\n",
       "<table border=\"1\" class=\"dataframe\">\n",
       "  <thead>\n",
       "    <tr style=\"text-align: right;\">\n",
       "      <th></th>\n",
       "      <th>connectionTime</th>\n",
       "      <th>disconnectTime</th>\n",
       "      <th>doneChargingTime</th>\n",
       "    </tr>\n",
       "  </thead>\n",
       "  <tbody>\n",
       "    <tr>\n",
       "      <th>22969</th>\n",
       "      <td>Mon, 09 Sep 2019 20:28:20 GMT</td>\n",
       "      <td>Tue, 10 Sep 2019 01:10:37 GMT</td>\n",
       "      <td>Mon, 09 Sep 2019 22:54:55 GMT</td>\n",
       "    </tr>\n",
       "    <tr>\n",
       "      <th>13471</th>\n",
       "      <td>Thu, 08 Nov 2018 16:24:06 GMT</td>\n",
       "      <td>Fri, 09 Nov 2018 02:34:54 GMT</td>\n",
       "      <td>Thu, 08 Nov 2018 23:39:48 GMT</td>\n",
       "    </tr>\n",
       "    <tr>\n",
       "      <th>5382</th>\n",
       "      <td>Tue, 24 Jul 2018 15:43:36 GMT</td>\n",
       "      <td>Wed, 25 Jul 2018 01:47:28 GMT</td>\n",
       "      <td>Tue, 24 Jul 2018 18:22:42 GMT</td>\n",
       "    </tr>\n",
       "    <tr>\n",
       "      <th>19662</th>\n",
       "      <td>Wed, 15 May 2019 15:49:12 GMT</td>\n",
       "      <td>Thu, 16 May 2019 00:35:49 GMT</td>\n",
       "      <td>Wed, 15 May 2019 17:15:38 GMT</td>\n",
       "    </tr>\n",
       "    <tr>\n",
       "      <th>7698</th>\n",
       "      <td>Fri, 24 Aug 2018 01:36:51 GMT</td>\n",
       "      <td>Fri, 24 Aug 2018 03:22:39 GMT</td>\n",
       "      <td>Fri, 24 Aug 2018 03:22:31 GMT</td>\n",
       "    </tr>\n",
       "    <tr>\n",
       "      <th>8353</th>\n",
       "      <td>Fri, 31 Aug 2018 23:24:58 GMT</td>\n",
       "      <td>Sat, 01 Sep 2018 00:45:13 GMT</td>\n",
       "      <td>Sat, 01 Sep 2018 00:43:38 GMT</td>\n",
       "    </tr>\n",
       "  </tbody>\n",
       "</table>\n",
       "</div>"
      ],
      "text/plain": [
       "                      connectionTime                 disconnectTime  \\\n",
       "22969  Mon, 09 Sep 2019 20:28:20 GMT  Tue, 10 Sep 2019 01:10:37 GMT   \n",
       "13471  Thu, 08 Nov 2018 16:24:06 GMT  Fri, 09 Nov 2018 02:34:54 GMT   \n",
       "5382   Tue, 24 Jul 2018 15:43:36 GMT  Wed, 25 Jul 2018 01:47:28 GMT   \n",
       "19662  Wed, 15 May 2019 15:49:12 GMT  Thu, 16 May 2019 00:35:49 GMT   \n",
       "7698   Fri, 24 Aug 2018 01:36:51 GMT  Fri, 24 Aug 2018 03:22:39 GMT   \n",
       "8353   Fri, 31 Aug 2018 23:24:58 GMT  Sat, 01 Sep 2018 00:45:13 GMT   \n",
       "\n",
       "                    doneChargingTime  \n",
       "22969  Mon, 09 Sep 2019 22:54:55 GMT  \n",
       "13471  Thu, 08 Nov 2018 23:39:48 GMT  \n",
       "5382   Tue, 24 Jul 2018 18:22:42 GMT  \n",
       "19662  Wed, 15 May 2019 17:15:38 GMT  \n",
       "7698   Fri, 24 Aug 2018 03:22:31 GMT  \n",
       "8353   Sat, 01 Sep 2018 00:43:38 GMT  "
      ]
     },
     "execution_count": 102,
     "metadata": {},
     "output_type": "execute_result"
    }
   ],
   "source": [
    "df[['connectionTime','disconnectTime','doneChargingTime']].sample(6)"
   ]
  },
  {
   "cell_type": "code",
   "execution_count": null,
   "metadata": {},
   "outputs": [],
   "source": [
    "# question \n",
    "\n",
    "\"\"\"\n",
    "average time individual leave their car plugged in compared to the \n",
    "amount of time it takes to charge the vehicle \n",
    "\n",
    "\"\"\"\""
   ]
  },
  {
   "cell_type": "markdown",
   "metadata": {},
   "source": [
    "#### kWhDelivered"
   ]
  },
  {
   "cell_type": "code",
   "execution_count": null,
   "metadata": {},
   "outputs": [
    {
     "data": {
      "text/plain": [
       "False    31424\n",
       "Name: kWhDelivered, dtype: int64"
      ]
     },
     "execution_count": 78,
     "metadata": {},
     "output_type": "execute_result"
    }
   ],
   "source": [
    "df['kWhDelivered'].isna().value_counts()"
   ]
  },
  {
   "cell_type": "code",
   "execution_count": null,
   "metadata": {},
   "outputs": [
    {
     "data": {
      "text/plain": [
       "mean     9.253283\n",
       "std      8.760917\n",
       "min      0.501000\n",
       "max     77.700000\n",
       "Name: kWhDelivered, dtype: float64"
      ]
     },
     "execution_count": 82,
     "metadata": {},
     "output_type": "execute_result"
    }
   ],
   "source": [
    "df['kWhDelivered'].agg(['mean', 'std', 'min', 'max'])"
   ]
  },
  {
   "cell_type": "code",
   "execution_count": null,
   "metadata": {},
   "outputs": [
    {
     "data": {
      "text/plain": [
       "<matplotlib.axes._subplots.AxesSubplot at 0x7f874250a128>"
      ]
     },
     "execution_count": 93,
     "metadata": {},
     "output_type": "execute_result"
    },
    {
     "data": {
      "image/png": "[encoded data removed]",
      "text/plain": [
       "<Figure size 1512x648 with 1 Axes>"
      ]
     },
     "metadata": {},
     "output_type": "display_data"
    }
   ],
   "source": [
    "df['kWhDelivered'].plot(kind = 'hist', bins = 60)"
   ]
  },
  {
   "cell_type": "markdown",
   "metadata": {},
   "source": [
    "#### sessionID"
   ]
  },
  {
   "cell_type": "code",
   "execution_count": null,
   "metadata": {},
   "outputs": [
    {
     "data": {
      "text/plain": [
       "False    31424\n",
       "Name: sessionID, dtype: int64"
      ]
     },
     "execution_count": 76,
     "metadata": {},
     "output_type": "execute_result"
    }
   ],
   "source": [
    "df['sessionID'].isna().value_counts()"
   ]
  },
  {
   "cell_type": "code",
   "execution_count": null,
   "metadata": {},
   "outputs": [
    {
     "data": {
      "text/plain": [
       "31424"
      ]
     },
     "execution_count": 77,
     "metadata": {},
     "output_type": "execute_result"
    }
   ],
   "source": [
    "len(df['sessionID'].unique())"
   ]
  },
  {
   "cell_type": "markdown",
   "metadata": {},
   "source": [
    "#### siteID"
   ]
  },
  {
   "cell_type": "code",
   "execution_count": null,
   "metadata": {},
   "outputs": [
    {
     "data": {
      "text/plain": [
       "False    31424\n",
       "Name: siteID, dtype: int64"
      ]
     },
     "execution_count": 74,
     "metadata": {},
     "output_type": "execute_result"
    }
   ],
   "source": [
    "df['siteID'].isna().value_counts()"
   ]
  },
  {
   "cell_type": "code",
   "execution_count": null,
   "metadata": {},
   "outputs": [
    {
     "data": {
      "text/plain": [
       "0002    29343\n",
       "2        2081\n",
       "Name: siteID, dtype: int64"
      ]
     },
     "execution_count": 75,
     "metadata": {},
     "output_type": "execute_result"
    }
   ],
   "source": [
    "df['siteID'].value_counts()"
   ]
  },
  {
   "cell_type": "markdown",
   "metadata": {},
   "source": [
    "#### SpaceID"
   ]
  },
  {
   "cell_type": "code",
   "execution_count": null,
   "metadata": {},
   "outputs": [
    {
     "data": {
      "text/plain": [
       "False    31424\n",
       "Name: spaceID, dtype: int64"
      ]
     },
     "execution_count": 70,
     "metadata": {},
     "output_type": "execute_result"
    }
   ],
   "source": [
    "df['spaceID'].isna().value_counts()"
   ]
  },
  {
   "cell_type": "code",
   "execution_count": null,
   "metadata": {},
   "outputs": [
    {
     "data": {
      "text/plain": [
       "55"
      ]
     },
     "execution_count": 73,
     "metadata": {},
     "output_type": "execute_result"
    }
   ],
   "source": [
    "len(df['spaceID'].unique())"
   ]
  },
  {
   "cell_type": "code",
   "execution_count": null,
   "metadata": {},
   "outputs": [],
   "source": [
    "df['spaceID'].value_counts()"
   ]
  },
  {
   "cell_type": "markdown",
   "metadata": {},
   "source": [
    "##### StationID"
   ]
  },
  {
   "cell_type": "code",
   "execution_count": null,
   "metadata": {},
   "outputs": [
    {
     "data": {
      "text/plain": [
       "False    31424\n",
       "Name: stationID, dtype: int64"
      ]
     },
     "execution_count": 65,
     "metadata": {},
     "output_type": "execute_result"
    }
   ],
   "source": [
    "df['stationID'].isna().value_counts()"
   ]
  },
  {
   "cell_type": "code",
   "execution_count": null,
   "metadata": {},
   "outputs": [
    {
     "name": "stdout",
     "output_type": "stream",
     "text": [
      "\n",
      "number of unique stationIDs:  55\n"
     ]
    },
    {
     "data": {
      "text/plain": [
       "array(['2-39-78-362', '2-39-95-27', '2-39-79-380', '2-39-79-379',\n",
       "       '2-39-79-381', '2-39-139-28', '2-39-91-441', '2-39-79-377',\n",
       "       '2-39-79-382', '2-39-78-366', '2-39-91-437', '2-39-78-361',\n",
       "       '2-39-78-360', '2-39-125-21', '2-39-78-365', '2-39-127-19',\n",
       "       '2-39-79-383', '2-39-89-25', '2-39-95-444', '2-39-124-22',\n",
       "       '2-39-89-439', '2-39-92-442', '2-39-123-23', '2-39-90-440',\n",
       "       '2-39-78-364', '2-39-88-24', '2-39-90-26', '2-39-88-438',\n",
       "       '2-39-78-363', '2-39-79-378', '2-39-123-557', '2-39-78-367',\n",
       "       '2-39-79-376', '2-39-138-29', '2-39-128-18', '2-39-125-559',\n",
       "       '2-39-126-20', '2-39-131-30', '2-39-130-31', '2-39-92-436',\n",
       "       '2-39-138-566', '2-39-130-564', '2-39-129-17', '2-39-139-567',\n",
       "       '2-39-127-561', '2-39-124-558', '2-39-129-563', '2-39-131-565',\n",
       "       '2-39-83-386', '2-39-128-562', '2-39-126-560', '2-39-83-387',\n",
       "       '2-39-82-384', '2-39-82-385', '2-39-81-4550'], dtype=object)"
      ]
     },
     "execution_count": 68,
     "metadata": {},
     "output_type": "execute_result"
    }
   ],
   "source": [
    "print()\n",
    "print('number of unique stationIDs: ',len(df['stationID'].unique()))\n",
    "df['stationID'].unique()"
   ]
  },
  {
   "cell_type": "markdown",
   "metadata": {},
   "source": [
    "#### Timezone"
   ]
  },
  {
   "cell_type": "code",
   "execution_count": null,
   "metadata": {},
   "outputs": [
    {
     "data": {
      "text/plain": [
       "False    31424\n",
       "Name: timezone, dtype: int64"
      ]
     },
     "execution_count": 63,
     "metadata": {},
     "output_type": "execute_result"
    }
   ],
   "source": [
    "df['timezone'].isna().value_counts()"
   ]
  },
  {
   "cell_type": "code",
   "execution_count": null,
   "metadata": {},
   "outputs": [
    {
     "data": {
      "text/plain": [
       "array(['America/Los_Angeles'], dtype=object)"
      ]
     },
     "execution_count": 64,
     "metadata": {},
     "output_type": "execute_result"
    }
   ],
   "source": [
    "df['timezone'].unique()"
   ]
  },
  {
   "cell_type": "markdown",
   "metadata": {},
   "source": [
    "#### UserID"
   ]
  },
  {
   "cell_type": "code",
   "execution_count": null,
   "metadata": {},
   "outputs": [
    {
     "data": {
      "text/plain": [
       "False    16388\n",
       "True     15036\n",
       "Name: userID, dtype: int64"
      ]
     },
     "execution_count": 54,
     "metadata": {},
     "output_type": "execute_result"
    }
   ],
   "source": [
    "# checking for Nans\n",
    "df['userID'].isna().value_counts()"
   ]
  },
  {
   "cell_type": "code",
   "execution_count": null,
   "metadata": {},
   "outputs": [
    {
     "data": {
      "text/plain": [
       "572"
      ]
     },
     "execution_count": 61,
     "metadata": {},
     "output_type": "execute_result"
    }
   ],
   "source": [
    "# number of unique users \n",
    "\n",
    "len(df['userID'].unique())"
   ]
  },
  {
   "cell_type": "markdown",
   "metadata": {},
   "source": [
    "#### userinputs"
   ]
  },
  {
   "cell_type": "code",
   "execution_count": null,
   "metadata": {},
   "outputs": [
    {
     "name": "stdout",
     "output_type": "stream",
     "text": [
      "\n",
      "rows in total:  31424\n",
      "\n"
     ]
    },
    {
     "data": {
      "text/plain": [
       "False    16388\n",
       "True     15036\n",
       "Name: userInputs, dtype: int64"
      ]
     },
     "execution_count": 51,
     "metadata": {},
     "output_type": "execute_result"
    }
   ],
   "source": [
    "print()\n",
    "print('rows in total: ', df.shape[0])\n",
    "print()\n",
    "df['userInputs'].isna().value_counts()"
   ]
  },
  {
   "cell_type": "code",
   "execution_count": null,
   "metadata": {},
   "outputs": [
    {
     "data": {
      "text/plain": [
       "222    [{'WhPerMile': 350, 'kWhRequested': 59.5, 'mil...\n",
       "Name: userInputs, dtype: object"
      ]
     },
     "execution_count": 40,
     "metadata": {},
     "output_type": "execute_result"
    }
   ],
   "source": [
    "df[ df['_id'] == '5bc915caf9af8b0dad3c0660']['userInputs']"
   ]
  },
  {
   "cell_type": "code",
   "execution_count": null,
   "metadata": {},
   "outputs": [
    {
     "data": {
      "text/plain": [
       "{'userInputs': [{'WhPerMile': 350,\n",
       "   'kWhRequested': 59.5,\n",
       "   'milesRequested': 170,\n",
       "   'minutesAvailable': 550,\n",
       "   'modifiedAt': 'Mon, 30 Apr 2018 15:08:54 GMT',\n",
       "   'paymentRequired': True,\n",
       "   'requestedDeparture': 'Tue, 01 May 2018 00:17:49 GMT',\n",
       "   'userID': 22}]}"
      ]
     },
     "execution_count": 42,
     "metadata": {},
     "output_type": "execute_result"
    }
   ],
   "source": [
    "# this the value of userInputs when value is not Nan\n",
    "\n",
    "{\n",
    "     \"userInputs\": [\n",
    "        {\n",
    "          \"WhPerMile\": 350,\n",
    "          \"kWhRequested\": 59.5,\n",
    "          \"milesRequested\": 170,\n",
    "          \"minutesAvailable\": 550,\n",
    "          \"modifiedAt\": \"Mon, 30 Apr 2018 15:08:54 GMT\",\n",
    "          \"paymentRequired\": True,\n",
    "          \"requestedDeparture\": \"Tue, 01 May 2018 00:17:49 GMT\",\n",
    "          \"userID\": 22\n",
    "        }\n",
    "      ]\n",
    "}"
   ]
  },
  {
   "cell_type": "markdown",
   "metadata": {},
   "source": [
    "<hr>"
   ]
  },
  {
   "cell_type": "code",
   "execution_count": null,
   "metadata": {},
   "outputs": [],
   "source": [
    "## Questions\n",
    "\"\"\"\"\n",
    "   time spent charging and count of charges\n",
    "\n",
    "\"\"\""
   ]
  },
  {
   "cell_type": "code",
   "execution_count": null,
   "metadata": {},
   "outputs": [
    {
     "data": {
      "text/html": [
       "<div>\n",
       "<style scoped>\n",
       "    .dataframe tbody tr th:only-of-type {\n",
       "        vertical-align: middle;\n",
       "    }\n",
       "\n",
       "    .dataframe tbody tr th {\n",
       "        vertical-align: top;\n",
       "    }\n",
       "\n",
       "    .dataframe thead th {\n",
       "        text-align: right;\n",
       "    }\n",
       "</style>\n",
       "<table border=\"1\" class=\"dataframe\">\n",
       "  <thead>\n",
       "    <tr style=\"text-align: right;\">\n",
       "      <th></th>\n",
       "      <th>mean</th>\n",
       "      <th>count</th>\n",
       "      <th>std</th>\n",
       "      <th>min</th>\n",
       "      <th>max</th>\n",
       "    </tr>\n",
       "    <tr>\n",
       "      <th>spaceID</th>\n",
       "      <th></th>\n",
       "      <th></th>\n",
       "      <th></th>\n",
       "      <th></th>\n",
       "      <th></th>\n",
       "    </tr>\n",
       "  </thead>\n",
       "  <tbody>\n",
       "    <tr>\n",
       "      <th>11900388</th>\n",
       "      <td>22.170396</td>\n",
       "      <td>1130</td>\n",
       "      <td>13.951547</td>\n",
       "      <td>0.552000</td>\n",
       "      <td>77.700000</td>\n",
       "    </tr>\n",
       "    <tr>\n",
       "      <th>CA-498</th>\n",
       "      <td>13.943494</td>\n",
       "      <td>509</td>\n",
       "      <td>12.515470</td>\n",
       "      <td>0.575000</td>\n",
       "      <td>57.887000</td>\n",
       "    </tr>\n",
       "    <tr>\n",
       "      <th>CA-499</th>\n",
       "      <td>11.360910</td>\n",
       "      <td>458</td>\n",
       "      <td>8.834282</td>\n",
       "      <td>0.640000</td>\n",
       "      <td>59.796000</td>\n",
       "    </tr>\n",
       "    <tr>\n",
       "      <th>CA-497</th>\n",
       "      <td>11.313693</td>\n",
       "      <td>400</td>\n",
       "      <td>9.187910</td>\n",
       "      <td>0.526000</td>\n",
       "      <td>50.807000</td>\n",
       "    </tr>\n",
       "    <tr>\n",
       "      <th>CA-325</th>\n",
       "      <td>10.787713</td>\n",
       "      <td>828</td>\n",
       "      <td>9.182626</td>\n",
       "      <td>0.589000</td>\n",
       "      <td>61.114000</td>\n",
       "    </tr>\n",
       "    <tr>\n",
       "      <th>CA-490</th>\n",
       "      <td>10.686224</td>\n",
       "      <td>593</td>\n",
       "      <td>9.940568</td>\n",
       "      <td>0.629000</td>\n",
       "      <td>61.550000</td>\n",
       "    </tr>\n",
       "    <tr>\n",
       "      <th>CA-323</th>\n",
       "      <td>10.074022</td>\n",
       "      <td>766</td>\n",
       "      <td>9.945773</td>\n",
       "      <td>0.502000</td>\n",
       "      <td>56.779000</td>\n",
       "    </tr>\n",
       "    <tr>\n",
       "      <th>CA-317</th>\n",
       "      <td>10.054571</td>\n",
       "      <td>856</td>\n",
       "      <td>9.516660</td>\n",
       "      <td>0.528000</td>\n",
       "      <td>75.528000</td>\n",
       "    </tr>\n",
       "    <tr>\n",
       "      <th>CA-492</th>\n",
       "      <td>9.944479</td>\n",
       "      <td>688</td>\n",
       "      <td>7.719179</td>\n",
       "      <td>0.531000</td>\n",
       "      <td>58.010000</td>\n",
       "    </tr>\n",
       "    <tr>\n",
       "      <th>CA-319</th>\n",
       "      <td>9.836817</td>\n",
       "      <td>745</td>\n",
       "      <td>8.790307</td>\n",
       "      <td>0.545000</td>\n",
       "      <td>61.653000</td>\n",
       "    </tr>\n",
       "    <tr>\n",
       "      <th>CA-491</th>\n",
       "      <td>9.703372</td>\n",
       "      <td>510</td>\n",
       "      <td>7.920076</td>\n",
       "      <td>0.507000</td>\n",
       "      <td>46.308000</td>\n",
       "    </tr>\n",
       "    <tr>\n",
       "      <th>CA-326</th>\n",
       "      <td>9.682289</td>\n",
       "      <td>650</td>\n",
       "      <td>7.888849</td>\n",
       "      <td>0.565000</td>\n",
       "      <td>63.620000</td>\n",
       "    </tr>\n",
       "    <tr>\n",
       "      <th>CA-324</th>\n",
       "      <td>9.561808</td>\n",
       "      <td>589</td>\n",
       "      <td>7.320334</td>\n",
       "      <td>0.559000</td>\n",
       "      <td>47.229000</td>\n",
       "    </tr>\n",
       "    <tr>\n",
       "      <th>CA-513</th>\n",
       "      <td>9.454565</td>\n",
       "      <td>108</td>\n",
       "      <td>8.392844</td>\n",
       "      <td>0.656000</td>\n",
       "      <td>65.900000</td>\n",
       "    </tr>\n",
       "    <tr>\n",
       "      <th>CA-327</th>\n",
       "      <td>9.288009</td>\n",
       "      <td>940</td>\n",
       "      <td>7.540657</td>\n",
       "      <td>0.531000</td>\n",
       "      <td>50.651000</td>\n",
       "    </tr>\n",
       "    <tr>\n",
       "      <th>CA-502</th>\n",
       "      <td>9.257534</td>\n",
       "      <td>339</td>\n",
       "      <td>7.599614</td>\n",
       "      <td>0.528000</td>\n",
       "      <td>50.822000</td>\n",
       "    </tr>\n",
       "    <tr>\n",
       "      <th>CA-305</th>\n",
       "      <td>9.073772</td>\n",
       "      <td>1412</td>\n",
       "      <td>9.067954</td>\n",
       "      <td>0.509000</td>\n",
       "      <td>58.354000</td>\n",
       "    </tr>\n",
       "    <tr>\n",
       "      <th>CA-318</th>\n",
       "      <td>8.939460</td>\n",
       "      <td>562</td>\n",
       "      <td>7.263169</td>\n",
       "      <td>0.502000</td>\n",
       "      <td>44.618000</td>\n",
       "    </tr>\n",
       "    <tr>\n",
       "      <th>CA-496</th>\n",
       "      <td>8.874027</td>\n",
       "      <td>459</td>\n",
       "      <td>8.422807</td>\n",
       "      <td>0.564000</td>\n",
       "      <td>50.547639</td>\n",
       "    </tr>\n",
       "    <tr>\n",
       "      <th>CA-495</th>\n",
       "      <td>8.859770</td>\n",
       "      <td>465</td>\n",
       "      <td>7.954420</td>\n",
       "      <td>0.593000</td>\n",
       "      <td>53.954000</td>\n",
       "    </tr>\n",
       "    <tr>\n",
       "      <th>CA-503</th>\n",
       "      <td>8.798008</td>\n",
       "      <td>251</td>\n",
       "      <td>5.572356</td>\n",
       "      <td>0.719000</td>\n",
       "      <td>37.486000</td>\n",
       "    </tr>\n",
       "    <tr>\n",
       "      <th>CA-501</th>\n",
       "      <td>8.793940</td>\n",
       "      <td>333</td>\n",
       "      <td>7.019814</td>\n",
       "      <td>0.602000</td>\n",
       "      <td>44.088000</td>\n",
       "    </tr>\n",
       "    <tr>\n",
       "      <th>CA-320</th>\n",
       "      <td>8.729812</td>\n",
       "      <td>620</td>\n",
       "      <td>8.116879</td>\n",
       "      <td>0.503768</td>\n",
       "      <td>46.212292</td>\n",
       "    </tr>\n",
       "    <tr>\n",
       "      <th>CA-511</th>\n",
       "      <td>8.710096</td>\n",
       "      <td>104</td>\n",
       "      <td>7.638102</td>\n",
       "      <td>0.606000</td>\n",
       "      <td>54.908000</td>\n",
       "    </tr>\n",
       "    <tr>\n",
       "      <th>CA-303</th>\n",
       "      <td>8.691433</td>\n",
       "      <td>1808</td>\n",
       "      <td>9.039962</td>\n",
       "      <td>0.521000</td>\n",
       "      <td>57.711000</td>\n",
       "    </tr>\n",
       "    <tr>\n",
       "      <th>CA-314</th>\n",
       "      <td>8.681795</td>\n",
       "      <td>698</td>\n",
       "      <td>8.459090</td>\n",
       "      <td>0.533000</td>\n",
       "      <td>59.830000</td>\n",
       "    </tr>\n",
       "    <tr>\n",
       "      <th>CA-500</th>\n",
       "      <td>8.672016</td>\n",
       "      <td>437</td>\n",
       "      <td>7.335486</td>\n",
       "      <td>0.577000</td>\n",
       "      <td>51.140000</td>\n",
       "    </tr>\n",
       "    <tr>\n",
       "      <th>CA-507</th>\n",
       "      <td>8.547333</td>\n",
       "      <td>90</td>\n",
       "      <td>7.603609</td>\n",
       "      <td>0.569000</td>\n",
       "      <td>49.557000</td>\n",
       "    </tr>\n",
       "    <tr>\n",
       "      <th>CA-316</th>\n",
       "      <td>8.455543</td>\n",
       "      <td>573</td>\n",
       "      <td>7.652142</td>\n",
       "      <td>0.573000</td>\n",
       "      <td>41.984000</td>\n",
       "    </tr>\n",
       "    <tr>\n",
       "      <th>CA-322</th>\n",
       "      <td>8.341950</td>\n",
       "      <td>582</td>\n",
       "      <td>7.340486</td>\n",
       "      <td>0.501000</td>\n",
       "      <td>47.060000</td>\n",
       "    </tr>\n",
       "    <tr>\n",
       "      <th>CA-307</th>\n",
       "      <td>8.314246</td>\n",
       "      <td>1141</td>\n",
       "      <td>7.776044</td>\n",
       "      <td>0.521000</td>\n",
       "      <td>68.740000</td>\n",
       "    </tr>\n",
       "    <tr>\n",
       "      <th>CA-489</th>\n",
       "      <td>8.280020</td>\n",
       "      <td>903</td>\n",
       "      <td>8.621944</td>\n",
       "      <td>0.505000</td>\n",
       "      <td>58.873000</td>\n",
       "    </tr>\n",
       "    <tr>\n",
       "      <th>CA-512</th>\n",
       "      <td>8.190026</td>\n",
       "      <td>177</td>\n",
       "      <td>5.773093</td>\n",
       "      <td>0.562000</td>\n",
       "      <td>32.743000</td>\n",
       "    </tr>\n",
       "    <tr>\n",
       "      <th>CA-509</th>\n",
       "      <td>8.181886</td>\n",
       "      <td>88</td>\n",
       "      <td>4.457825</td>\n",
       "      <td>0.725000</td>\n",
       "      <td>14.802000</td>\n",
       "    </tr>\n",
       "    <tr>\n",
       "      <th>CA-309</th>\n",
       "      <td>8.096151</td>\n",
       "      <td>1035</td>\n",
       "      <td>7.508997</td>\n",
       "      <td>0.512000</td>\n",
       "      <td>54.578000</td>\n",
       "    </tr>\n",
       "    <tr>\n",
       "      <th>CA-212</th>\n",
       "      <td>8.051900</td>\n",
       "      <td>200</td>\n",
       "      <td>6.333335</td>\n",
       "      <td>0.564000</td>\n",
       "      <td>47.532000</td>\n",
       "    </tr>\n",
       "    <tr>\n",
       "      <th>CA-312</th>\n",
       "      <td>7.971481</td>\n",
       "      <td>671</td>\n",
       "      <td>7.719306</td>\n",
       "      <td>0.553000</td>\n",
       "      <td>58.505000</td>\n",
       "    </tr>\n",
       "    <tr>\n",
       "      <th>CA-510</th>\n",
       "      <td>7.963572</td>\n",
       "      <td>138</td>\n",
       "      <td>4.920437</td>\n",
       "      <td>0.595000</td>\n",
       "      <td>26.891000</td>\n",
       "    </tr>\n",
       "    <tr>\n",
       "      <th>CA-306</th>\n",
       "      <td>7.955893</td>\n",
       "      <td>796</td>\n",
       "      <td>7.306790</td>\n",
       "      <td>0.526000</td>\n",
       "      <td>54.615000</td>\n",
       "    </tr>\n",
       "    <tr>\n",
       "      <th>CA-308</th>\n",
       "      <td>7.931183</td>\n",
       "      <td>617</td>\n",
       "      <td>7.087196</td>\n",
       "      <td>0.523000</td>\n",
       "      <td>57.473000</td>\n",
       "    </tr>\n",
       "    <tr>\n",
       "      <th>CA-494</th>\n",
       "      <td>7.774631</td>\n",
       "      <td>544</td>\n",
       "      <td>7.036585</td>\n",
       "      <td>0.516036</td>\n",
       "      <td>52.117000</td>\n",
       "    </tr>\n",
       "    <tr>\n",
       "      <th>CA-505</th>\n",
       "      <td>7.765908</td>\n",
       "      <td>75</td>\n",
       "      <td>4.691896</td>\n",
       "      <td>0.730000</td>\n",
       "      <td>18.577000</td>\n",
       "    </tr>\n",
       "    <tr>\n",
       "      <th>CA-508</th>\n",
       "      <td>7.728700</td>\n",
       "      <td>120</td>\n",
       "      <td>5.411354</td>\n",
       "      <td>0.833000</td>\n",
       "      <td>35.518000</td>\n",
       "    </tr>\n",
       "    <tr>\n",
       "      <th>CA-321</th>\n",
       "      <td>7.707310</td>\n",
       "      <td>867</td>\n",
       "      <td>6.971620</td>\n",
       "      <td>0.515000</td>\n",
       "      <td>43.877000</td>\n",
       "    </tr>\n",
       "    <tr>\n",
       "      <th>CA-310</th>\n",
       "      <td>7.678411</td>\n",
       "      <td>565</td>\n",
       "      <td>6.620736</td>\n",
       "      <td>0.532000</td>\n",
       "      <td>56.967000</td>\n",
       "    </tr>\n",
       "    <tr>\n",
       "      <th>CA-304</th>\n",
       "      <td>7.673718</td>\n",
       "      <td>1007</td>\n",
       "      <td>7.440840</td>\n",
       "      <td>0.513000</td>\n",
       "      <td>69.373000</td>\n",
       "    </tr>\n",
       "    <tr>\n",
       "      <th>CA-504</th>\n",
       "      <td>7.488208</td>\n",
       "      <td>149</td>\n",
       "      <td>4.109416</td>\n",
       "      <td>0.832000</td>\n",
       "      <td>20.878000</td>\n",
       "    </tr>\n",
       "    <tr>\n",
       "      <th>CA-506</th>\n",
       "      <td>7.468692</td>\n",
       "      <td>124</td>\n",
       "      <td>4.251082</td>\n",
       "      <td>0.553000</td>\n",
       "      <td>22.536000</td>\n",
       "    </tr>\n",
       "    <tr>\n",
       "      <th>CA-315</th>\n",
       "      <td>7.417477</td>\n",
       "      <td>1095</td>\n",
       "      <td>7.729342</td>\n",
       "      <td>0.501000</td>\n",
       "      <td>53.590000</td>\n",
       "    </tr>\n",
       "    <tr>\n",
       "      <th>CA-313</th>\n",
       "      <td>7.409321</td>\n",
       "      <td>918</td>\n",
       "      <td>6.858899</td>\n",
       "      <td>0.520000</td>\n",
       "      <td>53.724000</td>\n",
       "    </tr>\n",
       "    <tr>\n",
       "      <th>CA-493</th>\n",
       "      <td>7.012473</td>\n",
       "      <td>536</td>\n",
       "      <td>7.250371</td>\n",
       "      <td>0.506000</td>\n",
       "      <td>45.763000</td>\n",
       "    </tr>\n",
       "    <tr>\n",
       "      <th>CA-311</th>\n",
       "      <td>6.904431</td>\n",
       "      <td>1056</td>\n",
       "      <td>6.227268</td>\n",
       "      <td>0.501000</td>\n",
       "      <td>50.062000</td>\n",
       "    </tr>\n",
       "    <tr>\n",
       "      <th>CA-149</th>\n",
       "      <td>6.172671</td>\n",
       "      <td>76</td>\n",
       "      <td>5.726257</td>\n",
       "      <td>0.588000</td>\n",
       "      <td>38.373000</td>\n",
       "    </tr>\n",
       "    <tr>\n",
       "      <th>CA-213</th>\n",
       "      <td>4.088867</td>\n",
       "      <td>15</td>\n",
       "      <td>3.343764</td>\n",
       "      <td>0.843000</td>\n",
       "      <td>10.260000</td>\n",
       "    </tr>\n",
       "    <tr>\n",
       "      <th>CA-148</th>\n",
       "      <td>2.752750</td>\n",
       "      <td>8</td>\n",
       "      <td>3.385377</td>\n",
       "      <td>0.768000</td>\n",
       "      <td>10.184000</td>\n",
       "    </tr>\n",
       "  </tbody>\n",
       "</table>\n",
       "</div>"
      ],
      "text/plain": [
       "               mean  count        std       min        max\n",
       "spaceID                                                   \n",
       "11900388  22.170396   1130  13.951547  0.552000  77.700000\n",
       "CA-498    13.943494    509  12.515470  0.575000  57.887000\n",
       "CA-499    11.360910    458   8.834282  0.640000  59.796000\n",
       "CA-497    11.313693    400   9.187910  0.526000  50.807000\n",
       "CA-325    10.787713    828   9.182626  0.589000  61.114000\n",
       "CA-490    10.686224    593   9.940568  0.629000  61.550000\n",
       "CA-323    10.074022    766   9.945773  0.502000  56.779000\n",
       "CA-317    10.054571    856   9.516660  0.528000  75.528000\n",
       "CA-492     9.944479    688   7.719179  0.531000  58.010000\n",
       "CA-319     9.836817    745   8.790307  0.545000  61.653000\n",
       "CA-491     9.703372    510   7.920076  0.507000  46.308000\n",
       "CA-326     9.682289    650   7.888849  0.565000  63.620000\n",
       "CA-324     9.561808    589   7.320334  0.559000  47.229000\n",
       "CA-513     9.454565    108   8.392844  0.656000  65.900000\n",
       "CA-327     9.288009    940   7.540657  0.531000  50.651000\n",
       "CA-502     9.257534    339   7.599614  0.528000  50.822000\n",
       "CA-305     9.073772   1412   9.067954  0.509000  58.354000\n",
       "CA-318     8.939460    562   7.263169  0.502000  44.618000\n",
       "CA-496     8.874027    459   8.422807  0.564000  50.547639\n",
       "CA-495     8.859770    465   7.954420  0.593000  53.954000\n",
       "CA-503     8.798008    251   5.572356  0.719000  37.486000\n",
       "CA-501     8.793940    333   7.019814  0.602000  44.088000\n",
       "CA-320     8.729812    620   8.116879  0.503768  46.212292\n",
       "CA-511     8.710096    104   7.638102  0.606000  54.908000\n",
       "CA-303     8.691433   1808   9.039962  0.521000  57.711000\n",
       "CA-314     8.681795    698   8.459090  0.533000  59.830000\n",
       "CA-500     8.672016    437   7.335486  0.577000  51.140000\n",
       "CA-507     8.547333     90   7.603609  0.569000  49.557000\n",
       "CA-316     8.455543    573   7.652142  0.573000  41.984000\n",
       "CA-322     8.341950    582   7.340486  0.501000  47.060000\n",
       "CA-307     8.314246   1141   7.776044  0.521000  68.740000\n",
       "CA-489     8.280020    903   8.621944  0.505000  58.873000\n",
       "CA-512     8.190026    177   5.773093  0.562000  32.743000\n",
       "CA-509     8.181886     88   4.457825  0.725000  14.802000\n",
       "CA-309     8.096151   1035   7.508997  0.512000  54.578000\n",
       "CA-212     8.051900    200   6.333335  0.564000  47.532000\n",
       "CA-312     7.971481    671   7.719306  0.553000  58.505000\n",
       "CA-510     7.963572    138   4.920437  0.595000  26.891000\n",
       "CA-306     7.955893    796   7.306790  0.526000  54.615000\n",
       "CA-308     7.931183    617   7.087196  0.523000  57.473000\n",
       "CA-494     7.774631    544   7.036585  0.516036  52.117000\n",
       "CA-505     7.765908     75   4.691896  0.730000  18.577000\n",
       "CA-508     7.728700    120   5.411354  0.833000  35.518000\n",
       "CA-321     7.707310    867   6.971620  0.515000  43.877000\n",
       "CA-310     7.678411    565   6.620736  0.532000  56.967000\n",
       "CA-304     7.673718   1007   7.440840  0.513000  69.373000\n",
       "CA-504     7.488208    149   4.109416  0.832000  20.878000\n",
       "CA-506     7.468692    124   4.251082  0.553000  22.536000\n",
       "CA-315     7.417477   1095   7.729342  0.501000  53.590000\n",
       "CA-313     7.409321    918   6.858899  0.520000  53.724000\n",
       "CA-493     7.012473    536   7.250371  0.506000  45.763000\n",
       "CA-311     6.904431   1056   6.227268  0.501000  50.062000\n",
       "CA-149     6.172671     76   5.726257  0.588000  38.373000\n",
       "CA-213     4.088867     15   3.343764  0.843000  10.260000\n",
       "CA-148     2.752750      8   3.385377  0.768000  10.184000"
      ]
     },
     "execution_count": 112,
     "metadata": {},
     "output_type": "execute_result"
    }
   ],
   "source": [
    "df.groupby('spaceID')['kWhDelivered'].agg(\n",
    "                            ['mean', 'count','std', 'min', 'max',]).sort_values(by = 'mean', ascending= False)"
   ]
  }
 ],
 "metadata": {
  "interpreter": {
   "hash": "3f1337977d947d4a3f615544b60fe6964aed947043e663b44e1a95a887488653"
  },
  "kernelspec": {
   "display_name": "Python 3.7.1 ('base')",
   "language": "python",
   "name": "python3"
  },
  "language_info": {
   "codemirror_mode": {
    "name": "ipython",
    "version": 3
   },
   "file_extension": ".py",
   "mimetype": "text/x-python",
   "name": "python",
   "nbconvert_exporter": "python",
   "pygments_lexer": "ipython3",
   "version": "3.7.1"
  },
  "orig_nbformat": 4
 },
 "nbformat": 4,
 "nbformat_minor": 2
}
